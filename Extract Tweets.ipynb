{
 "cells": [
  {
   "cell_type": "markdown",
   "metadata": {},
   "source": [
    "## Notebook to extract tweets from twitter with the hashtag #RacistEU\n"
   ]
  },
  {
   "cell_type": "code",
   "execution_count": 1,
   "metadata": {},
   "outputs": [],
   "source": [
    "#Import Libraries\n",
    "\n",
    "# extract data from twitter\n",
    "import twint\n",
    "\n",
    "##Solve compatibility issues with notebooks and RunTime errors\n",
    "#To patch asyncio to allow nested use of **asyncio.run** and **loop.run_until_complete**\n",
    "import nest_asyncio\n",
    "nest_asyncio.apply()"
   ]
  },
  {
   "cell_type": "code",
   "execution_count": 2,
   "metadata": {},
   "outputs": [
    {
     "name": "stdout",
     "output_type": "stream",
     "text": [
      "1507506689515442195 2022-03-26 02:56:17 +0300 <AIdreessy> Les ukrainiens seraient ils de la race aryennes pour qu'on puisse mettre les noirs à la rue pour les accueillir? Pour l'esprit aryen, l'esprit gaullois n'est-il pas impur? #Ukraine  #essonne  #RacistEU  #RefugeesNeedHelp   https://t.co/F2I1zVooHg\n",
      "1507379384872808455 2022-03-25 18:30:25 +0300 <SicarioGam3r> Ukraine has exposed the blatant Western Racism #RussiaUkraineConflict #WesternHypocrisy #DoubleStandards #Racism #RacistEU #RacistBritain    https://t.co/UPH7BlvZYu\n",
      "1507370746565345280 2022-03-25 17:56:06 +0300 <UncleObama_> Exactl same double standards in #RacistUkraine #racisteu #racistpoland #racistbiden #racistusa #AfricansinUkraine #lbc @IainDale @NIAbbot\n",
      "1506941991954919425 2022-03-24 13:32:23 +0300 <ScorpionPlan> @irvinmigue @FicoGutierrez #Racista #racistas #racist #racisteu\n",
      "1506931921087049734 2022-03-24 12:52:22 +0300 <SilenceIsGolddd> 100% agreed!  #RacistEU #RacistUkraine #NoMoreUSHypocrisy #No2TheWest #NewWorldOrder\n",
      "1506764790341029897 2022-03-24 01:48:15 +0300 <segenmsemere> #AfricanRefugees #racisteu\n",
      "1506691612298162179 2022-03-23 20:57:28 +0300 <blindninja2> The sanctions toward Russia are backfiring. The rest of the world that is people of color are buying more oil from Russia than ever. The US really screwed up #AfricansinUkraine #BlackLivesMatter #racisteu #gasprices #Ukraine\n",
      "1506598421611913222 2022-03-23 14:47:09 +0300 <PaulBucy> EU-funded immigration detention centre in #Ukraine still holding “immigrants” (brown refugees). ⤵️  Wonder if the European Union 🇪🇺 will finance similar detention centres somewhere in EU, for those fleeing Ukraine? #blueEyes #RacistEU #racism #AfricansinUkraine\n",
      "1506595612841562113 2022-03-23 14:35:59 +0300 <aswin_0174> #USA - About #PearlHarbour Attack #Japan - Love your culture.. 😂 why he can't speak a word about Hiroshima? 🤷🏻‍♂️ Are #Japanese people ready to Forgive/Forget the Historical #Hiroshima Blasting by USA😱  #BidenIsADisgrace #RacistEU #RacistUkraine #StopTheWar #Fukushima\n",
      "1506426122975600641 2022-03-23 03:22:30 +0300 <wagagaikoko> @pritipatel Wow, wow.. so while families are given money to host Ukraine refugees there is no sympathy for those fleeing from other countries! Just say it, if you are not white you are not welcome, blonde are prefered! #racism  #RacistEU #ENGLAND\n",
      "1506359690963439621 2022-03-22 22:58:31 +0300 <SilenceIsGolddd> No it isn't. It just that since these godforsaken Arab leaders are the slaves of the West, they must succumb to Israel, since Israel is considered to be the son of the US. Disgraceful to have such leaders in our Muslim countries.  #NoMoreUSHypocrisy #RacistEU #No2TheWest #NoMore\n",
      "1506328154289455111 2022-03-22 20:53:12 +0300 <segenmsemere> @Refugees @FilippoGrandi raise your voice against policies and practices of #EU that prevent #AfricanRefugees  from seeking Ayslum  Raise your voice against the #racistborders #Borderskills  #RacistEU\n",
      "1506321223873142787 2022-03-22 20:25:40 +0300 <UncleObama_> #racistbanksmustfall #RacistUkraine #RacistGOP #racisteu #racistpoland #pritipatel\n",
      "1506256010989735943 2022-03-22 16:06:32 +0300 <SilenceIsGolddd> And the US has the audacity to lecture us on humanity, sovereignty, freedom &amp; International law? Oh please, disperse with the blatant hypocrisy!!  #RacistEU #NoMoreUSHypocrisy #No2TheWest #NoMore #NewWorldOrder #HandsOffMuslims #HandsOffAfrica\n",
      "1506165433803554816 2022-03-22 10:06:37 +0300 <Coffeephile30> @narendramodi  even if our culture nd principles dont permit but pls dont help the west specially the britain ...they suck pathetic people and racist too ...let them die in famines like they let our ancestors die in Bengal #India #RacistEU #RacistUkraine #racistwest\n",
      "1506137761425899521 2022-03-22 08:16:39 +0300 <blindninja2> Aint this somethin. White priveledge on full display #AfricansinUkraine #BlackLivesMatter #RacistEU  #BlackForeignersInUkraine  https://t.co/4ARTkjlAoR\n",
      "1506133957913583617 2022-03-22 08:01:32 +0300 <anshumidave> Pale stale and male…since he likes stereotypes so much.  #racism #racist #RacistEU\n",
      "1506123254880210947 2022-03-22 07:19:01 +0300 <ginalovell545> surrounding her private parts, this had triggered me, but I do not see how or why you would call this #PoliceBrutality but more so, #RacistEU?  I also know all to well the full meaning of #Gaslighting that has@annelovell743 /@TRUTHTIMEPLS is left with a body in @haringeycouncil\n",
      "1506101452766339076 2022-03-22 05:52:23 +0300 <gusdureen> I don't understand why poland solidarnosc turn to #Racist.. #RacistEU\n",
      "1506094149266771978 2022-03-22 05:23:21 +0300 <AmieVarley> Yikes. I’d say this guy is racist. #RacistEU\n",
      "1506089782497222657 2022-03-22 05:06:00 +0300 <EvaAll4> #Nazi #Hate #Shameful #RacistEU\n",
      "1506074978197774336 2022-03-22 04:07:10 +0300 <Sh_Gandalf> 🚨🚨CW/TW Racism🚨🚨  Good Information on noticing racist symbols &amp; white supremacist dog whistle ideology out in the open. #racism #RacistEU #racistputin #RacismAtWork    https://t.co/6z9SMf1Fn3\n",
      "1506051760397373443 2022-03-22 02:34:55 +0300 <lilyesha_lilye> #RacistEU\n",
      "1506032402119991307 2022-03-22 01:18:00 +0300 <h_alemu> Currently the world   #Ukraine kills 🇷🇺s = 🌎🤐 #Russia beats Nazi 🇺🇦 = 🌎 STOP!!  #RacistEU  #NoMore\n",
      "1506031444744978443 2022-03-22 01:14:11 +0300 <FutureBoyWho2> This is disgusting soooo the white girl hits the Muslim girl everyone laugh the black girl defends her and now the teachers and stuff wanna drag her off nahhhh Fucking racism at it’s finest fire them and this girl got what she deserved #RacistEU #racism #racist #BlackTwitter\n",
      "1506024310917451779 2022-03-22 00:45:50 +0300 <h_alemu> #Ukraine is not innocent.  Racist Taliban like punishment   This is what you're trying to get us to support #RacistEU  #RacistUkraine   No thanks. I'll make my own mind up.\n",
      "1505994396851974164 2022-03-21 22:46:58 +0300 <CIaudevandame> Keep asking the questions, keep pointing out the hypocrisy and keep challenging these Neo liberal, warhawks whose dismissal of legitimate concerns, only preserves the deep rooted racist traits of the western colonialistic  psyche   #RacistEU #FightRacism #abolishNATO\n",
      "1505978401299050499 2022-03-21 21:43:25 +0300 <HPakistanis> No one gives a toss about #NazaninZaghariRatcliffe apart from the same lot reporting the #UkraineRussiaWar …. #joke #RacistEU #Iran #Hypocrites still remember what you did.\n",
      "1505967350876569600 2022-03-21 20:59:30 +0300 <ankahi0> #Poland #racism #RacistEU\n",
      "1505945293119844352 2022-03-21 19:31:51 +0300 <tenstrops> @RBC @BMO @cibc @TD_Canada   Why do you guys exclude black women from your advertising??? Always a black man and white woman??? Wtf is up with that racism??? @BLMLA   Black women are UGLY says Canada's banks  #racism #RacistEU #RacismAtWork\n",
      "1505940794586406913 2022-03-21 19:13:59 +0300 <SilenceIsGolddd> The West have always been the den of racists, nothing new or too shocking indeed. Its good to see many have been awakened to their hypocrisy after so many years. It no longer matters as much, many things have changed as it is already.   #NoMore #RacistEU #NewWorldOrder\n",
      "1505922739974156296 2022-03-21 18:02:14 +0300 <kevinmairura> @spriter99880 They'll know about the #RacistEU Pretty soon if they haven't yet .\n",
      "1505890399440850953 2022-03-21 15:53:43 +0300 <blindninja2> Good article about how African, Latino, and Asian countries view the #Ukrainian war. Its a war about the West trying to control the East. #AfricansinUkraine #BlackLivesMatter #RacistEU #blackforeignersukraine\n",
      "1505863974864265216 2022-03-21 14:08:43 +0300 <Shinobilyrical1> As much as I hate this prick in the clip, he's the only one that's had the balls to come out and say what Europe really thinks about who it considers as refugees worthy of help (white Europeans) and who it considers as migrants that deserve to die (Muslims).  #RacistEU #Poland\n",
      "1505851345445740545 2022-03-21 13:18:32 +0300 <SicarioGam3r> He’s not even hiding his Islamophobic racist rhetoric in this clip. Where’s NATO and the ‘righteous’ West now? #Islamophobia #RacistEU #Poland #MuslimLivesMatter #Migrants #Refugees #racism\n",
      "1505836393767084033 2022-03-21 12:19:08 +0300 <EleniKonstanto> #Refugees arriving from war torn countries must be treated equal. A 2 tiered system that creates the shame of Moira Lesvos, the disgrace of Eidomeni, asymmetric threat of Evros, Segregation by erecting walls, ethnic profiling for #AsylumRights #RacistEU  #Refugeesgr #FightRacism  https://t.co/Cjai8WoxmC\n"
     ]
    },
    {
     "name": "stdout",
     "output_type": "stream",
     "text": [
      "1505791697653235713 2022-03-21 09:21:31 +0300 <shuxands7567898> @AutismLife19yrs @lapatina_ #Hypocrisy #RacistEU\n",
      "1505789552392544262 2022-03-21 09:13:00 +0300 <shuxands7567898> @lapatina_ yeah now feel the pain of the Palestinian people who got their homes and land robbed by the Israeli occupation #RacistEU #RacistUkraine #Hypocrisy\n",
      "1505776084771516420 2022-03-21 08:19:29 +0300 <Whyruso_serious> Too many Mykola. But I don't stigmatize you by your name. My ex-friend's daughter is Inka. But it's the same as I don't regard her as the victim🇵🇪 whom was slaughtered by the barbaric European🇪🇺 #RacistEU #West #BigTech #Censorship #Twitter #MediaLiteracy   https://t.co/q0Wc4gZlAt\n",
      "1505640203351900162 2022-03-20 23:19:32 +0300 <Squiffey_101> Racism in discord 🤢 😪😴 #discord #racism #RacistEU @BorisJohnson  https://t.co/SutwmCSjeW\n",
      "1505637004087861251 2022-03-20 23:06:49 +0300 <alubeida> #UkraineRussiaWar #yemen #RacistEU #UnitedNations #UnitedShowbiz #civilisedterrorists @UNHumanRights Arm #Palestinians just like #Ukrainians  Watch \"How Ukraine War EXPOSES Western Racism | Peter Oborne\" on YouTube  https://t.co/G4X5DePNK0\n",
      "1505604019796033542 2022-03-20 20:55:45 +0300 <herbtvet> @TheView @abby_roque @USWNT why don’t you discuss the genocide in Yemen?? women and children being starved to death please where is the outrage. #EndTheSiegeOnYemen #woopi #FoxAndFriends #Jesus #Ethiopia #RacistEU\n",
      "1505575193716019201 2022-03-20 19:01:13 +0300 <Coffeephile30> @mfa_russia @KremlinRussia_E @RusEmbUSA @RussianEmbassy @RusBotschaft @mission_russian @RussiaUN @RusBotWien @FranceEnRussie @RussianEmbassyC @RF_OSCE Their true colour were never hidden from the world but from americans themselves,  cause their media is corrupt and manipulated #IStandWithPutin #istandwithrussia #hypocritewest #RacistUkraine #racistwest #Russophobia #RacistEU\n",
      "1505567436548018178 2022-03-20 18:30:23 +0300 <UncleObama_> @Kuba59957242 Call it what you like , you still remain #RacistUkraine #racistpoland #RacistEU !  You and your 7 followers!  #AfricansinUkraine #AFRICANSINUKRAINE #WesternMedia  https://t.co/VHcEFH2fvh\n",
      "1505560379241668608 2022-03-20 18:02:21 +0300 <SunyaVerse> The way WEST planning to remove YURI GAGARIN from their books so that coming generation will not be able to remember him &amp; know the true history of 'the first man on SPACE'  They are using their same old tricks of invading, erasing their history &amp; dividing people.  #RacistEU\n",
      "1505553513417482252 2022-03-20 17:35:04 +0300 <MrArkinBey> Turns out we never had a migrant crisis, we had a racism crisis. #RacistEU #racism  https://t.co/Y81kKSnPA6\n",
      "1505552093041594371 2022-03-20 17:29:25 +0300 <MrArkinBey> She’s actually got a point, more Brits are calling the UK out on racism. Watch this clip and see if you agree? #RacistEU #Racisim   RT &amp; Follow for more…  https://t.co/qWUxFJxBqR\n",
      "1505521767070240773 2022-03-20 15:28:55 +0300 <UncleObama_> You are on your own there mr softy Azazel. You alone exposed your racism to the  https://t.co/vjL9OpYjjS did it all by yourself with your own little finger. 😂🤣🤣 #bully #blacklivesmatter. #RacistEU #lbc @lbc @cnn @AlJazeera_World @BBCNewsnight #RefugeesWelcome #SocialistSunday\n",
      "1505519295983456257 2022-03-20 15:19:06 +0300 <UncleObama_> Based on this pathetic argument of yours , ukranian refugees must also stay in poland , romania or hungary or moldova. If they come to france or uk , they are economic migrants ! Is  that correct ?  #Refugees #RefugeesWelcome #RacistUkraine #racistpoland #RacistEU #lbc #bbcaq\n",
      "1505517290980315136 2022-03-20 15:11:07 +0300 <UncleObama_> If you fail , roll out your racist tweet ! You bit more than you can chew today Voldamort! Didnt you ? 😱🤣🤣 #RacistUkraine #RacistEU #Refugees #RefugeesWelcome\n",
      "1505511138066411524 2022-03-20 14:46:41 +0300 <UncleObama_> @Voldamortpott @1313wad @MirrorPolitics You either , cant read or you cant use your own initiative to think for yourself ! #AfricansinUkraine #RacistEU #RacistUkraine #lbc  https://t.co/HbZD4f0D8Z\n",
      "1505503052287156230 2022-03-20 14:14:33 +0300 <UncleObama_> @Voldamortpott @1313wad @MirrorPolitics Dont  u agree poland is safe country ? and the #ukrainian refugees dont need to come to the uk because they are safe in mainland Europe including france ? 🤣🤣🤣🤣 #RacistUkraine #racisteu #Hypocrites  https://t.co/nFYd1F8FAB\n",
      "1505493488682643456 2022-03-20 13:36:33 +0300 <UncleObama_> @1313wad @LBC @NickFerrariLBC @HackneyAbbott @IainDale oni też są uchodźcami.  zbombardowaliśmy też ich kraje.  zbombardowaliśmy Syrię, zbombardowaliśmy Irak, zbombardowaliśmy Libię. tutaj yiu rozpowszechniacie kłamstwa, aby ukryć wasz rasizm, nazywając ich emigrantami ekonomicznymi.  nie bądź głupi!  odpowiedz po angielsku #racisteu  https://t.co/z3e0SmJgr8\n",
      "1505479688520667137 2022-03-20 12:41:42 +0300 <UncleObama_> #lbc #RacistUkraine  #RacistEU #brexit Embraced or pushed back: on the Polish border, sadly, not all refugees are welcome | Lorenzo Tondo   https://t.co/vnqKlHyqUd\n",
      "1505478998809358339 2022-03-20 12:38:58 +0300 <UncleObama_> Hey #lbc Poland wasnt magnificent to the syrian refugees. Why was that ?  Your hypocrisy in the uk media is making me sick ! #SyrianRefugees #poland #RefugeesWelcome #RacistEU #RacistUkraine #AfricansinUkraine @LBC @NickFerrariLBC #lbcnews @HackneyAbbott @IainDale  https://t.co/Vxs4dO6KKn\n",
      "1505423572440780806 2022-03-20 08:58:43 +0300 <_VeerBhadra> Please take your time and read this #racism #RacistEU #whitemanburden #civilisedworld  https://t.co/JXJ1jD79wA\n",
      "1505288331592151044 2022-03-20 00:01:19 +0300 <alubeida> #Ukraine #Ukrainian #RacistEU #Russia #Palestine #UnitedNations against muslims! #Hypocrisy\n",
      "1505274324965486592 2022-03-19 23:05:40 +0300 <Coffeephile30> See told ya!! #Ukraine ain't no saint , and I'm confident about the biological weapons too ..which is def. Funded by the (as usual) USA 🤡.. wuhan lab backfired though  👉🏻👈🏻,(just saying)😶 #boycottamerica #Russophobia #RacistEU #IStandWithPutin #iSupportRussia #americasucks\n",
      "1505192887960674306 2022-03-19 17:42:04 +0300 <HassanY89> @Billbrowder Western arrogance . #RacistEU #abolishNATO\n",
      "1505186878869454852 2022-03-19 17:18:11 +0300 <SilenceIsGolddd> We absolutely 'reject,' &amp; refuse in every way.   #RacistEU #RacistUkraine #NoMoreEUHypocrisy #NoMoreUSHypocrisy #NewWorldOrder #HandsOffSomalia #HandsOffAfghanistan #HandsOffMuslims\n",
      "1505149877445140485 2022-03-19 14:51:09 +0300 <UncleObama_> @SheilaBurgoyne1 @Keir_Starmer Spot on ! #AfricansinUkraine #RacistUkraine #RacistEU\n",
      "1505114991707717634 2022-03-19 12:32:32 +0300 <UKhuduga> Oh white people are humans and others are ….. #RacistEU and it’s people\n",
      "1505087932146896896 2022-03-19 10:45:00 +0300 <frank_wh17e> British Govt: Close borders to #Syrian and #Afghan #refugees fleeing #war. British Govt: Get paid £350 to house #Ukranian refugees fleeing war.  Make it make sense British govt. if this is not broad daylight #racism then what is. #RacistEU #DoubleStandards\n",
      "1505005229464555520 2022-03-19 05:16:23 +0300 <alubeida> Former NATO Soldier DESTROYS Official Ukraine War Narrative  https://t.co/0MM5iQInum via @YouTube #Ukranian #UkraineRussiaWar #UkraineUnderAttack #Racists #RacistEU #palestine #Palestinians #PalestineUnderAttack\n",
      "1504917862779129856 2022-03-18 23:29:13 +0300 <MEROUANENABIL1> @MoorishMovement AP(le site Algérien raciste contre Maroc) pleure la fin de la RASD et du poliszbel🤣🤣🤣🤣🤣:  https://t.co/DYiwwb5Fjc #AP #Algerie #Algeriens #Algeriennes #Racistes #RacistEU #RacerNation #RaceWeek #Morocco #Maroc #marocain\n",
      "1504905105807745026 2022-03-18 22:38:31 +0300 <blindninja2> Very good interview about how White people see themselves as victims during war and the hypocrasy of White liberals. #AfricansinUkraine #BlackLivesMatter #UkraineRussiaWar #RacistEU\n",
      "1504889365138481152 2022-03-18 21:35:58 +0300 <MrZee6000> Your life doesn’t matter unless you were born in the right side of the world #RacistEU\n",
      "1504879514546958339 2022-03-18 20:56:50 +0300 <aswin_0174> Will #Zelenksy speak about #Hiroshima Blast done by Bloody #America in #Japan Parliament? Just remember, he's the guy who's comparing 9/11 with #Pearl Harbor. Let's see what he gonna do for his publicity stunts 😂  #BidenIsAFailure #RacistEU #NATOIsAJoke #RussiaUkraineConflict\n",
      "1504856767167180804 2022-03-18 19:26:26 +0300 <MagnificoDeeJay> Applause @vonderleyen and @antoniocostapm, the show must go on.  Slowly and inhumanly, for the thousands of unemployed and homeless Portuguese people, discrimination and hypocrisy. #Portugal #racism #racismo #CohesionForum #racisminwar #RacistEU\n",
      "1504842794497622035 2022-03-18 18:30:55 +0300 <platformlive_tv> I wrote this poem, seeing the abhorrent treatment of Ukrainians on POC. It set a dangerous precedent for ALL black &amp; brown people in Europe. We aren't safe, especially not in war.    https://t.co/e9J5hYHo3Q  #RacistUkraine #UkraineRussiaWar #RacistEU #blm #BlackTwitter #HateCrime\n",
      "1504824008310767624 2022-03-18 17:16:16 +0300 <miskristian> @ZemmourEric Ne mettez plus les pieds en #afrique. A ton âge tu parles encore du Racisme ??? Quel exemple et leçon on peut tirer chez toi.  #UnionEuropea #African #RacistEU\n",
      "1504787760074305536 2022-03-18 14:52:14 +0300 <kalajadu93> @KhaledBeydoun Racist part of the world #RacistEU\n",
      "1504778911888125959 2022-03-18 14:17:04 +0300 <Bob_Footy_Horse> @mrjamesob is doing his best this morning - to find excuses for racism re the #Ukraine️Refugees - why have they been treated differently to Syrians. Its racism James - that's the reason. #racism #RacistEU\n"
     ]
    },
    {
     "name": "stdout",
     "output_type": "stream",
     "text": [
      "[!] No more data! Scraping will stop now.\n",
      "found 0 deleted tweets in this search.\n"
     ]
    }
   ],
   "source": [
    "# Configure\n",
    "c = twint.Config()\n",
    "#Collecting data\n",
    "c.Search = \"#RacistEU\"\n",
    "c.Since = '2022-02-26'\n",
    "c.Until = '2022-03-26'\n",
    "\n",
    "#c.Hide_output = True     # Hides Output\n",
    "\n",
    "#Config for file storage\n",
    "c.Lang =\"en\"\n",
    "c.Store_csv = True  # To save tweets in a CSV format\n",
    "c.Output = \"tweetracisteu.csv\"\n",
    "\n",
    "# Run\n",
    "twint.run.Search(c)"
   ]
  },
  {
   "cell_type": "code",
   "execution_count": 3,
   "metadata": {},
   "outputs": [],
   "source": [
    "from zipfile import ZipFile"
   ]
  },
  {
   "cell_type": "code",
   "execution_count": 4,
   "metadata": {},
   "outputs": [],
   "source": [
    "# create a ZipFile object\n",
    "zipObj = ZipFile('tweetracisteu.zip', 'w')\n",
    "\n",
    "# Add  file to the zip\n",
    "zipObj.write('tweetracisteu.csv')\n",
    "\n",
    "# close the Zip File\n",
    "zipObj.close()"
   ]
  },
  {
   "cell_type": "code",
   "execution_count": null,
   "metadata": {},
   "outputs": [],
   "source": []
  }
 ],
 "metadata": {
  "kernelspec": {
   "display_name": "Python 3",
   "language": "python",
   "name": "python3"
  },
  "language_info": {
   "codemirror_mode": {
    "name": "ipython",
    "version": 3
   },
   "file_extension": ".py",
   "mimetype": "text/x-python",
   "name": "python",
   "nbconvert_exporter": "python",
   "pygments_lexer": "ipython3",
   "version": "3.8.5"
  }
 },
 "nbformat": 4,
 "nbformat_minor": 4
}
